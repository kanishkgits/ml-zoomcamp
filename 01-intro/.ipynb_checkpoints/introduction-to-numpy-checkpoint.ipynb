{
 "cells": [
  {
   "cell_type": "markdown",
   "id": "46917428-478e-4582-9c2d-6bc089b36129",
   "metadata": {},
   "source": [
    "# Introduction to Numpy\n",
    "---\n",
    "## importing"
   ]
  },
  {
   "cell_type": "code",
   "execution_count": 1,
   "id": "3160b1bb",
   "metadata": {
    "vscode": {
     "languageId": "plaintext"
    }
   },
   "outputs": [],
   "source": [
    "import numpy as np"
   ]
  },
  {
   "cell_type": "code",
   "execution_count": 2,
   "id": "7422c0f6",
   "metadata": {
    "vscode": {
     "languageId": "plaintext"
    }
   },
   "outputs": [
    {
     "data": {
      "text/plain": [
       "<module 'numpy' from '/home/codespace/.local/lib/python3.12/site-packages/numpy/__init__.py'>"
      ]
     },
     "execution_count": 2,
     "metadata": {},
     "output_type": "execute_result"
    }
   ],
   "source": [
    "np"
   ]
  },
  {
   "cell_type": "markdown",
   "id": "aed8a11f-c822-4029-ac6a-fbe702af980f",
   "metadata": {},
   "source": [
    "# One-dimentional Arrays\n",
    "---\n",
    "## creating array with \n",
    "1. all zeros \n",
    "2. all ones\n",
    "2. all a given no."
   ]
  },
  {
   "cell_type": "code",
   "execution_count": 3,
   "id": "e1227b98-8919-4de6-a3e1-e07621149fe6",
   "metadata": {},
   "outputs": [
    {
     "data": {
      "text/plain": [
       "array([0., 0., 0., 0., 0., 0., 0., 0., 0., 0.])"
      ]
     },
     "execution_count": 3,
     "metadata": {},
     "output_type": "execute_result"
    }
   ],
   "source": [
    "np.zeros(10)"
   ]
  },
  {
   "cell_type": "code",
   "execution_count": 4,
   "id": "08a454d6-851f-48ab-8219-101b26b08118",
   "metadata": {},
   "outputs": [
    {
     "data": {
      "text/plain": [
       "array([1., 1., 1., 1., 1., 1., 1., 1., 1., 1.])"
      ]
     },
     "execution_count": 4,
     "metadata": {},
     "output_type": "execute_result"
    }
   ],
   "source": [
    "np.ones(10)"
   ]
  },
  {
   "cell_type": "code",
   "execution_count": 5,
   "id": "ee3f1f41-05fb-4bb4-8a35-cd26fb0d031b",
   "metadata": {},
   "outputs": [
    {
     "data": {
      "text/plain": [
       "array([2.5, 2.5, 2.5, 2.5, 2.5, 2.5, 2.5, 2.5, 2.5, 2.5])"
      ]
     },
     "execution_count": 5,
     "metadata": {},
     "output_type": "execute_result"
    }
   ],
   "source": [
    "np.full(10, 2.5)"
   ]
  },
  {
   "cell_type": "markdown",
   "id": "3794128a-441d-425a-9a30-fafe7f58bbef",
   "metadata": {},
   "source": [
    "## python list to numpy array"
   ]
  },
  {
   "cell_type": "code",
   "execution_count": 6,
   "id": "f98e85f0-e610-4546-8a33-8caf7406e9eb",
   "metadata": {},
   "outputs": [
    {
     "data": {
      "text/plain": [
       "array([10, 20, 14, 28])"
      ]
     },
     "execution_count": 6,
     "metadata": {},
     "output_type": "execute_result"
    }
   ],
   "source": [
    "a = np.array([10, 20, 14, 28])\n",
    "a"
   ]
  },
  {
   "cell_type": "markdown",
   "id": "2b49d8f5-e02d-4ee7-a864-e3f4ce6295da",
   "metadata": {},
   "source": [
    "## elements from to a certain range"
   ]
  },
  {
   "cell_type": "code",
   "execution_count": 7,
   "id": "452bc5b5-8912-4482-b3c0-d279c35b9716",
   "metadata": {},
   "outputs": [
    {
     "data": {
      "text/plain": [
       "array([3, 4, 5, 6, 7, 8, 9])"
      ]
     },
     "execution_count": 7,
     "metadata": {},
     "output_type": "execute_result"
    }
   ],
   "source": [
    "np.arange(3,10)"
   ]
  },
  {
   "cell_type": "markdown",
   "id": "fdb457f5-81bf-45da-b239-1755083aa909",
   "metadata": {},
   "source": [
    "## create a array within the range of 0 to 1 of size 11"
   ]
  },
  {
   "cell_type": "code",
   "execution_count": 8,
   "id": "802a1aaa-c721-4b83-bbfb-937f9753bc0e",
   "metadata": {},
   "outputs": [
    {
     "data": {
      "text/plain": [
       "array([0. , 0.1, 0.2, 0.3, 0.4, 0.5, 0.6, 0.7, 0.8, 0.9, 1. ])"
      ]
     },
     "execution_count": 8,
     "metadata": {},
     "output_type": "execute_result"
    }
   ],
   "source": [
    "np.linspace(0, 1, 11)"
   ]
  },
  {
   "cell_type": "markdown",
   "id": "16e21478-63fd-453a-b5b8-1bf4deb2aaa5",
   "metadata": {},
   "source": [
    "# Multi-dimentional Arrays\n",
    "---"
   ]
  },
  {
   "cell_type": "code",
   "execution_count": 9,
   "id": "7ebecce5-4b30-4175-a30d-0945d91199f8",
   "metadata": {},
   "outputs": [
    {
     "data": {
      "text/plain": [
       "array([[0., 0.],\n",
       "       [0., 0.],\n",
       "       [0., 0.],\n",
       "       [0., 0.],\n",
       "       [0., 0.]])"
      ]
     },
     "execution_count": 9,
     "metadata": {},
     "output_type": "execute_result"
    }
   ],
   "source": [
    "np.zeros((5, 2)) # (rows, columns)"
   ]
  },
  {
   "cell_type": "code",
   "execution_count": 13,
   "id": "a479823d-926f-45a8-b398-2956e9fbf8b3",
   "metadata": {},
   "outputs": [
    {
     "data": {
      "text/plain": [
       "array([[1, 2, 3],\n",
       "       [4, 5, 6],\n",
       "       [7, 8, 9]])"
      ]
     },
     "execution_count": 13,
     "metadata": {},
     "output_type": "execute_result"
    }
   ],
   "source": [
    "n = np.array([[1, 2, 3],[4, 5, 6],[7, 8, 9]])\n",
    "n"
   ]
  },
  {
   "cell_type": "code",
   "execution_count": 16,
   "id": "b9ce261f-1099-451b-b2b5-e96083613927",
   "metadata": {},
   "outputs": [
    {
     "data": {
      "text/plain": [
       "np.int64(4)"
      ]
     },
     "execution_count": 16,
     "metadata": {},
     "output_type": "execute_result"
    }
   ],
   "source": [
    "n[1, 0]"
   ]
  },
  {
   "cell_type": "code",
   "execution_count": 17,
   "id": "5743564c-ef30-440e-ac2d-a388e72d2838",
   "metadata": {},
   "outputs": [
    {
     "data": {
      "text/plain": [
       "np.int64(2)"
      ]
     },
     "execution_count": 17,
     "metadata": {},
     "output_type": "execute_result"
    }
   ],
   "source": [
    "n[0][1]"
   ]
  },
  {
   "cell_type": "code",
   "execution_count": 20,
   "id": "38d8d768-5847-4722-873c-72cee59c42ff",
   "metadata": {},
   "outputs": [
    {
     "data": {
      "text/plain": [
       "array([7, 8, 9])"
      ]
     },
     "execution_count": 20,
     "metadata": {},
     "output_type": "execute_result"
    }
   ],
   "source": [
    "n[2] #get row"
   ]
  },
  {
   "cell_type": "code",
   "execution_count": 21,
   "id": "256cc4bc-ed26-45f3-8dd2-1bdccdb331b9",
   "metadata": {},
   "outputs": [
    {
     "data": {
      "text/plain": [
       "array([2, 5, 8])"
      ]
     },
     "execution_count": 21,
     "metadata": {},
     "output_type": "execute_result"
    }
   ],
   "source": [
    "n[:, 1] #get column"
   ]
  },
  {
   "cell_type": "markdown",
   "id": "6cd76de3-4a46-4ef6-88ad-afa89ce6609d",
   "metadata": {},
   "source": [
    "# Randomly Generated Array\n",
    "---"
   ]
  },
  {
   "cell_type": "code",
   "execution_count": 25,
   "id": "1e3be658-0d00-43a6-9747-69f0d3d56671",
   "metadata": {},
   "outputs": [
    {
     "data": {
      "text/plain": [
       "array([[0.77132064, 0.02075195],\n",
       "       [0.63364823, 0.74880388],\n",
       "       [0.49850701, 0.22479665],\n",
       "       [0.19806286, 0.76053071],\n",
       "       [0.16911084, 0.08833981]])"
      ]
     },
     "execution_count": 25,
     "metadata": {},
     "output_type": "execute_result"
    }
   ],
   "source": [
    "np.random.seed(10) #to get the same output everytime (can use anything in place of 10)\n",
    "np.random.rand(5,2) # range(0,1)"
   ]
  },
  {
   "cell_type": "code",
   "execution_count": 26,
   "id": "06316637-eaea-406d-a6d5-c2a6d0080a23",
   "metadata": {},
   "outputs": [
    {
     "data": {
      "text/plain": [
       "array([[ 1.3315865 ,  0.71527897],\n",
       "       [-1.54540029, -0.00838385],\n",
       "       [ 0.62133597, -0.72008556],\n",
       "       [ 0.26551159,  0.10854853],\n",
       "       [ 0.00429143, -0.17460021]])"
      ]
     },
     "execution_count": 26,
     "metadata": {},
     "output_type": "execute_result"
    }
   ],
   "source": [
    "np.random.seed(10) \n",
    "np.random.randn(5,2) #normal standard distribution"
   ]
  },
  {
   "cell_type": "code",
   "execution_count": 27,
   "id": "d29aea9b-7b07-4f5b-9eb3-c585e9318799",
   "metadata": {},
   "outputs": [
    {
     "data": {
      "text/plain": [
       "array([[62, 33],\n",
       "       [72, 78],\n",
       "       [49, 51],\n",
       "       [54, 77],\n",
       "       [69, 13]])"
      ]
     },
     "execution_count": 27,
     "metadata": {},
     "output_type": "execute_result"
    }
   ],
   "source": [
    "np.random.randint(low = 0, high = 100, size = (5, 2)) #integers"
   ]
  },
  {
   "cell_type": "markdown",
   "id": "098e2e34-392f-424b-98c1-7a99d4525f2b",
   "metadata": {},
   "source": [
    "# Element wise Operations\n",
    "---"
   ]
  },
  {
   "cell_type": "code",
   "execution_count": 28,
   "id": "55ec62d4-e456-45da-97f7-1a2e4c92df98",
   "metadata": {},
   "outputs": [
    {
     "data": {
      "text/plain": [
       "array([0, 1, 2, 3, 4])"
      ]
     },
     "execution_count": 28,
     "metadata": {},
     "output_type": "execute_result"
    }
   ],
   "source": [
    "a = np.arange(0, 5)\n",
    "a"
   ]
  },
  {
   "cell_type": "code",
   "execution_count": 39,
   "id": "b966cae6-ad15-4338-baf0-4a61e3e8fac0",
   "metadata": {},
   "outputs": [
    {
     "data": {
      "text/plain": [
       "array([3, 1, 1, 5, 0])"
      ]
     },
     "execution_count": 39,
     "metadata": {},
     "output_type": "execute_result"
    }
   ],
   "source": [
    "b = np.array([3, 1, 1, 5, 0])\n",
    "b"
   ]
  },
  {
   "cell_type": "code",
   "execution_count": 40,
   "id": "3099377e-7c6e-4b96-a42a-cf4b1398aeb1",
   "metadata": {},
   "outputs": [
    {
     "data": {
      "text/plain": [
       "array([ 0,  1,  2, 15,  0])"
      ]
     },
     "execution_count": 40,
     "metadata": {},
     "output_type": "execute_result"
    }
   ],
   "source": [
    "a * b"
   ]
  },
  {
   "cell_type": "markdown",
   "id": "e96bc925-7305-4aef-9829-0ee5836cd1b4",
   "metadata": {},
   "source": [
    "## Comparision Operations"
   ]
  },
  {
   "cell_type": "code",
   "execution_count": 41,
   "id": "faecdde5-71bf-4be1-b1b6-58e6993c0f08",
   "metadata": {},
   "outputs": [
    {
     "data": {
      "text/plain": [
       "array([False, False,  True,  True,  True])"
      ]
     },
     "execution_count": 41,
     "metadata": {},
     "output_type": "execute_result"
    }
   ],
   "source": [
    "a >= 2"
   ]
  },
  {
   "cell_type": "code",
   "execution_count": 42,
   "id": "2389312f-e11c-411b-a3b6-09bdaaa7eb8c",
   "metadata": {},
   "outputs": [
    {
     "data": {
      "text/plain": [
       "array([False, False,  True, False,  True])"
      ]
     },
     "execution_count": 42,
     "metadata": {},
     "output_type": "execute_result"
    }
   ],
   "source": [
    "a > b"
   ]
  },
  {
   "cell_type": "code",
   "execution_count": 43,
   "id": "bc646076-f6bb-46ce-bd4f-687cb7af04eb",
   "metadata": {},
   "outputs": [
    {
     "data": {
      "text/plain": [
       "array([2, 4])"
      ]
     },
     "execution_count": 43,
     "metadata": {},
     "output_type": "execute_result"
    }
   ],
   "source": [
    "a[a > b]"
   ]
  },
  {
   "cell_type": "markdown",
   "id": "c764b298-b71e-4d3c-9461-d1b6b00fa140",
   "metadata": {},
   "source": [
    "## Summarizing Operations"
   ]
  },
  {
   "cell_type": "code",
   "execution_count": 44,
   "id": "efcfb825-577a-42aa-b1ac-2b82e18929a7",
   "metadata": {},
   "outputs": [
    {
     "data": {
      "text/plain": [
       "np.int64(0)"
      ]
     },
     "execution_count": 44,
     "metadata": {},
     "output_type": "execute_result"
    }
   ],
   "source": [
    "a.min()"
   ]
  },
  {
   "cell_type": "code",
   "execution_count": 45,
   "id": "7a77a851-a4a4-45ab-af89-2b617ea96ae5",
   "metadata": {},
   "outputs": [
    {
     "data": {
      "text/plain": [
       "np.int64(4)"
      ]
     },
     "execution_count": 45,
     "metadata": {},
     "output_type": "execute_result"
    }
   ],
   "source": [
    "a.max()"
   ]
  },
  {
   "cell_type": "code",
   "execution_count": 46,
   "id": "191c82eb-ff08-4fd2-a16a-13cccde55a75",
   "metadata": {},
   "outputs": [
    {
     "data": {
      "text/plain": [
       "np.int64(10)"
      ]
     },
     "execution_count": 46,
     "metadata": {},
     "output_type": "execute_result"
    }
   ],
   "source": [
    "a.sum()"
   ]
  },
  {
   "cell_type": "code",
   "execution_count": 48,
   "id": "8dfce7a5-2c14-40e2-8130-cfae4651439c",
   "metadata": {},
   "outputs": [
    {
     "data": {
      "text/plain": [
       "np.float64(2.0)"
      ]
     },
     "execution_count": 48,
     "metadata": {},
     "output_type": "execute_result"
    }
   ],
   "source": [
    "a.mean()"
   ]
  },
  {
   "cell_type": "code",
   "execution_count": 50,
   "id": "3b2e486f-6dcc-4501-837b-373479fe02a6",
   "metadata": {},
   "outputs": [
    {
     "data": {
      "text/plain": [
       "np.float64(1.4142135623730951)"
      ]
     },
     "execution_count": 50,
     "metadata": {},
     "output_type": "execute_result"
    }
   ],
   "source": [
    "a.std() #standard deviation"
   ]
  },
  {
   "cell_type": "markdown",
   "id": "9d48d352-35ee-4baa-98df-c50ffa25e8b5",
   "metadata": {},
   "source": [
    "### Cheatsheet : https://www.datacamp.com/cheat-sheet/numpy-cheat-sheet-data-analysis-in-python"
   ]
  },
  {
   "cell_type": "code",
   "execution_count": null,
   "id": "19f80681-e158-4cbe-8f61-57c249c6a29a",
   "metadata": {},
   "outputs": [],
   "source": []
  }
 ],
 "metadata": {
  "kernelspec": {
   "display_name": "Python 3 (ipykernel)",
   "language": "python",
   "name": "python3"
  },
  "language_info": {
   "codemirror_mode": {
    "name": "ipython",
    "version": 3
   },
   "file_extension": ".py",
   "mimetype": "text/x-python",
   "name": "python",
   "nbconvert_exporter": "python",
   "pygments_lexer": "ipython3",
   "version": "3.12.1"
  }
 },
 "nbformat": 4,
 "nbformat_minor": 5
}
