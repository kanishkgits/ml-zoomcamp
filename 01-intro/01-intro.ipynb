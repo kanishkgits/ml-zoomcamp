{
 "cells": [
  {
   "cell_type": "markdown",
   "id": "9931f8d2",
   "metadata": {},
   "source": [
    "### 1.1 Introduction to ML\n",
    "\n",
    "ML is a process of extracting patterns from data, which is of two types:\n",
    "\n",
    "    features (information about the object) and\n",
    "    target (property to predict for unseen objects).\n",
    "\n",
    "Then, new feature values are presented to the model, and it makes predictions from the learned patterns."
   ]
  },
  {
   "cell_type": "markdown",
   "id": "e92ee5ce",
   "metadata": {},
   "source": [
    "### 1.2 ML Vs Rule Based Systems\n",
    "Traditional Rule-Based systems are based on a set of characteristics making the process untractable due to the complexity of code maintenance as the system grows.\n",
    "\n",
    "ML can be used to solve this problem with the following steps:\n",
    "1. Get data\n",
    "2. Define and calculate features\n",
    "2. Define and calculate features"
   ]
  },
  {
   "cell_type": "markdown",
   "id": "b49f389a",
   "metadata": {},
   "source": [
    "### 1.3 Supervised ML\n",
    "Feature matrix 'X', Target variable 'y'\n",
    "g(X) -> model\n",
    "goal -> g(x) ≈ y\n",
    "\n",
    "---\n",
    "\n",
    "regression -> returns a no.\n",
    "classification -> returns a category\n",
    "\n",
    "types of classification:\n",
    "1. multiclass (3 or more categories)\n",
    "2. binary (2)\n",
    "\n",
    "another 3rd type -> ranking (scores items by relevence score then sort showing top results). It is applied in recommender systems."
   ]
  },
  {
   "cell_type": "markdown",
   "id": "b89c74de",
   "metadata": {},
   "source": [
    "### 1.4 CRISP - DM\n",
    "\n",
    "1. Business Understanding\n",
    "    - Define a goal\n",
    "    - Is ML needed?\n",
    "    \n",
    "2. Data Understanding\n",
    "    - Size, Reliability ...  of the data\n",
    "    - Go back to previous step to adjust if needed\n",
    "    \n",
    "3. Data Preparation - Transtform the data so it can be put into ML\n",
    "    - Clean the data\n",
    "    - Build the pipelines\n",
    "    - Convert the data into Tabular form\n",
    "\n",
    "4. Modeling\n",
    "    - Which model to choose\n",
    "    - Add new features/fix data issues\n",
    "\n",
    "5. Evaluation\n",
    "    - Have we reached the goal/was it achievable?\n",
    "    - Go back and adjust goal\n",
    "\n",
    "6. Deployment\n",
    "    - Evaluate by deploying\n",
    "    - Deploy the model to all users\n",
    "    - Maintainance\n",
    "    \n",
    "### Iterate!!!"
   ]
  },
  {
   "cell_type": "markdown",
   "id": "1498ca1c",
   "metadata": {},
   "source": [
    "### 1.5 Model Selection Process\n",
    "ŷ -> predictions\n",
    "subcsript v -> validation\n",
    "Use 60% data for training and 20% to validate. -> select the best model\n",
    "then apply the best model to remaining 20% data -> checks if model just did'nt get lucky\n",
    "\n",
    "---\n",
    "\n",
    "1. Split\n",
    "2. Train \n",
    "3. Validate\n",
    "> do this for multiple models\n",
    "4. Select the best\n",
    "5. Test\n",
    "6. Check\n",
    "> After selecting the best model we can add validation data back and retrain the model."
   ]
  },
  {
   "cell_type": "code",
   "execution_count": null,
   "id": "c8ebdc4b",
   "metadata": {},
   "outputs": [],
   "source": []
  }
 ],
 "metadata": {
  "kernelspec": {
   "display_name": "Python 3 (ipykernel)",
   "language": "python",
   "name": "python3"
  },
  "language_info": {
   "codemirror_mode": {
    "name": "ipython",
    "version": 3
   },
   "file_extension": ".py",
   "mimetype": "text/x-python",
   "name": "python",
   "nbconvert_exporter": "python",
   "pygments_lexer": "ipython3",
   "version": "3.12.1"
  }
 },
 "nbformat": 4,
 "nbformat_minor": 5
}
